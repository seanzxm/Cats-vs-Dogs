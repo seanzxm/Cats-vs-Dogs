{
  "nbformat": 4,
  "nbformat_minor": 0,
  "metadata": {
    "colab": {
      "provenance": [],
      "gpuType": "V100"
    },
    "kernelspec": {
      "name": "python3",
      "display_name": "Python 3"
    },
    "accelerator": "GPU"
  },
  "cells": [
    {
      "cell_type": "markdown",
      "source": [
        "Sean Melone\n",
        "CPE-628 Project: Kaggle Dogs vs. Cats\n",
        "\n",
        "https://www.kaggle.com/c/dogs-vs-cats\n",
        "\n",
        "Here is the notebook I used to define and train my model for the CPE 628 project. A lot of the code to set up the file structure and import the dataset was learned from a Google for Developers video linked here https://www.youtube.com/watch?v=nq7_ZYJPWf0&t=642s\n",
        "You may also find the \"follow along\" notebook to accompany the video behind this link: https://goo.gle/2zTHWDu"
      ],
      "metadata": {
        "id": "m5g3F7oW0eww"
      }
    },
    {
      "cell_type": "code",
      "metadata": {
        "id": "dn-6c02VmqiN"
      },
      "source": [
        "# imports\n",
        "import os\n",
        "import zipfile\n",
        "import random\n",
        "import tensorflow as tf\n",
        "from keras.optimizers import RMSprop\n",
        "from keras.preprocessing.image import ImageDataGenerator\n",
        "from shutil import copyfile"
      ],
      "execution_count": 10,
      "outputs": []
    },
    {
      "cell_type": "code",
      "metadata": {
        "id": "3sd9dQWa23aj",
        "colab": {
          "base_uri": "https://localhost:8080/"
        },
        "outputId": "afb32169-910d-4e17-fd6a-2431feadc00f"
      },
      "source": [
        "!wget --no-check-certificate \\\n",
        "    \"https://download.microsoft.com/download/3/E/1/3E1C3F21-ECDB-4869-8368-6DEBA77B919F/kagglecatsanddogs_5340.zip\" \\\n",
        "    -O \"/tmp/cats-and-dogs.zip\"\n",
        "# link can sometimes change. If deprecated go to https://www.microsoft.com/en-us/download/confirmation.aspx?id=54765 and find the link on the page\n",
        "local_zip = '/tmp/cats-and-dogs.zip'\n",
        "zip_ref   = zipfile.ZipFile(local_zip, 'r')\n",
        "zip_ref.extractall('/tmp')\n",
        "zip_ref.close()\n"
      ],
      "execution_count": 2,
      "outputs": [
        {
          "output_type": "stream",
          "name": "stdout",
          "text": [
            "--2024-05-06 02:51:10--  https://download.microsoft.com/download/3/E/1/3E1C3F21-ECDB-4869-8368-6DEBA77B919F/kagglecatsanddogs_5340.zip\n",
            "Resolving download.microsoft.com (download.microsoft.com)... 23.220.113.200, 2a02:26f0:6b:1a0::317f, 2a02:26f0:6b:189::317f\n",
            "Connecting to download.microsoft.com (download.microsoft.com)|23.220.113.200|:443... connected.\n",
            "HTTP request sent, awaiting response... 200 OK\n",
            "Length: 824887076 (787M) [application/octet-stream]\n",
            "Saving to: ‘/tmp/cats-and-dogs.zip’\n",
            "\n",
            "/tmp/cats-and-dogs. 100%[===================>] 786.67M  78.2MB/s    in 7.7s    \n",
            "\n",
            "2024-05-06 02:51:18 (102 MB/s) - ‘/tmp/cats-and-dogs.zip’ saved [824887076/824887076]\n",
            "\n"
          ]
        }
      ]
    },
    {
      "cell_type": "code",
      "metadata": {
        "id": "F-QkLjxpmyK2"
      },
      "source": [
        "#See linked notebook in text cell\n",
        "try:\n",
        "    os.mkdir('/tmp/cats-v-dogs')\n",
        "    os.mkdir('/tmp/cats-v-dogs/training')\n",
        "    os.mkdir('/tmp/cats-v-dogs/testing')\n",
        "    os.mkdir('/tmp/cats-v-dogs/training/cats')\n",
        "    os.mkdir('/tmp/cats-v-dogs/training/dogs')\n",
        "    os.mkdir('/tmp/cats-v-dogs/testing/cats')\n",
        "    os.mkdir('/tmp/cats-v-dogs/testing/dogs')\n",
        "except OSError:\n",
        "    pass"
      ],
      "execution_count": 11,
      "outputs": []
    },
    {
      "cell_type": "code",
      "metadata": {
        "id": "zvSODo0f9LaU",
        "colab": {
          "base_uri": "https://localhost:8080/"
        },
        "outputId": "f0d7a7a7-3902-476b-a188-44a80fc5ebb8"
      },
      "source": [
        "#See linked notebook in text cell\n",
        "\n",
        "def split_data(SOURCE, TRAINING, TESTING, SPLIT_SIZE):\n",
        "    files = []\n",
        "    for filename in os.listdir(SOURCE):\n",
        "        file = SOURCE + filename\n",
        "        if os.path.getsize(file) > 0:\n",
        "            files.append(filename)\n",
        "        else:\n",
        "            print(filename + \" is corrupt. Removing image.\")\n",
        "\n",
        "    training_length = int(len(files) * SPLIT_SIZE)\n",
        "    testing_length = int(len(files) - training_length)\n",
        "    shuffled_set = random.sample(files, len(files))\n",
        "    training_set = shuffled_set[0:training_length]\n",
        "    testing_set = shuffled_set[-testing_length:]\n",
        "\n",
        "    for filename in training_set:\n",
        "        this_file = SOURCE + filename\n",
        "        destination = TRAINING + filename\n",
        "        copyfile(this_file, destination)\n",
        "\n",
        "    for filename in testing_set:\n",
        "        this_file = SOURCE + filename\n",
        "        destination = TESTING + filename\n",
        "        copyfile(this_file, destination)\n",
        "\n",
        "\n",
        "CAT_SOURCE_DIR = \"/tmp/PetImages/Cat/\"\n",
        "TRAINING_CATS_DIR = \"/tmp/cats-v-dogs/training/cats/\"\n",
        "TESTING_CATS_DIR = \"/tmp/cats-v-dogs/testing/cats/\"\n",
        "DOG_SOURCE_DIR = \"/tmp/PetImages/Dog/\"\n",
        "TRAINING_DOGS_DIR = \"/tmp/cats-v-dogs/training/dogs/\"\n",
        "TESTING_DOGS_DIR = \"/tmp/cats-v-dogs/testing/dogs/\"\n",
        "\n",
        "split_size = .9\n",
        "split_data(CAT_SOURCE_DIR, TRAINING_CATS_DIR, TESTING_CATS_DIR, split_size)\n",
        "split_data(DOG_SOURCE_DIR, TRAINING_DOGS_DIR, TESTING_DOGS_DIR, split_size)"
      ],
      "execution_count": 5,
      "outputs": [
        {
          "output_type": "stream",
          "name": "stdout",
          "text": [
            "666.jpg is corrupt. Removing image.\n",
            "11702.jpg is corrupt. Removing image.\n"
          ]
        }
      ]
    },
    {
      "cell_type": "code",
      "metadata": {
        "id": "-BQrav4anTmj"
      },
      "source": [
        "# Convolutional neural network\n",
        "model = tf.keras.models.Sequential([\n",
        "    tf.keras.layers.Conv2D(16, (3, 3), activation='relu', input_shape=(150, 150, 3)),\n",
        "    tf.keras.layers.MaxPooling2D(2, 2),\n",
        "    tf.keras.layers.Conv2D(32, (3, 3), activation='relu'),\n",
        "    tf.keras.layers.MaxPooling2D(2, 2),\n",
        "    tf.keras.layers.Conv2D(64, (3, 3), activation='relu'),\n",
        "    tf.keras.layers.MaxPooling2D(2, 2),\n",
        "    tf.keras.layers.Conv2D(128, (3, 3), activation='relu'),\n",
        "    tf.keras.layers.MaxPooling2D(2, 2),\n",
        "    tf.keras.layers.Flatten(),\n",
        "    tf.keras.layers.Dropout(0.5),\n",
        "    tf.keras.layers.Dense(256, activation='relu'),\n",
        "    tf.keras.layers.Dropout(0.5),\n",
        "    tf.keras.layers.Dense(1, activation='sigmoid')\n",
        "])\n",
        "\n",
        "model.compile(optimizer='adam', loss='binary_crossentropy', metrics=['acc'])"
      ],
      "execution_count": 27,
      "outputs": []
    },
    {
      "cell_type": "code",
      "metadata": {
        "id": "fQrZfVgz4j2g",
        "colab": {
          "base_uri": "https://localhost:8080/"
        },
        "outputId": "da7e630a-41b4-47d0-f852-f3114d2a17d7"
      },
      "source": [
        "# see linked notebook\n",
        "TRAINING_DIR = \"/tmp/cats-v-dogs/training/\"\n",
        "train_datagen = ImageDataGenerator(rescale=1.0/255.)\n",
        "train_generator = train_datagen.flow_from_directory(TRAINING_DIR,\n",
        "                                                    batch_size=250,\n",
        "                                                    class_mode='binary',\n",
        "                                                    target_size=(150, 150))\n",
        "\n",
        "VALIDATION_DIR = \"/tmp/cats-v-dogs/testing/\"\n",
        "validation_datagen = ImageDataGenerator(rescale=1.0/255.)\n",
        "validation_generator = validation_datagen.flow_from_directory(VALIDATION_DIR,\n",
        "                                                              batch_size=250,\n",
        "                                                              class_mode='binary',\n",
        "                                                              target_size=(150, 150))"
      ],
      "execution_count": 14,
      "outputs": [
        {
          "output_type": "stream",
          "name": "stdout",
          "text": [
            "Found 22498 images belonging to 2 classes.\n",
            "Found 2500 images belonging to 2 classes.\n"
          ]
        }
      ]
    },
    {
      "cell_type": "code",
      "metadata": {
        "id": "5qE1G6JB4fMn",
        "colab": {
          "base_uri": "https://localhost:8080/"
        },
        "outputId": "c1cf0ae5-a232-4987-a7f1-e31dd7d89d83"
      },
      "source": [
        "history = model.fit(train_generator, epochs=15, steps_per_epoch=90,\n",
        "                    validation_data=validation_generator, validation_steps=6)"
      ],
      "execution_count": 15,
      "outputs": [
        {
          "output_type": "stream",
          "name": "stdout",
          "text": [
            "Epoch 1/15\n",
            "90/90 [==============================] - 55s 582ms/step - loss: 0.6243 - acc: 0.6385 - val_loss: 0.5656 - val_acc: 0.7233\n",
            "Epoch 2/15\n",
            "90/90 [==============================] - 53s 589ms/step - loss: 0.5092 - acc: 0.7520 - val_loss: 0.4552 - val_acc: 0.7980\n",
            "Epoch 3/15\n",
            "90/90 [==============================] - 53s 587ms/step - loss: 0.4417 - acc: 0.7949 - val_loss: 0.3782 - val_acc: 0.8460\n",
            "Epoch 4/15\n",
            "90/90 [==============================] - 53s 586ms/step - loss: 0.3852 - acc: 0.8291 - val_loss: 0.3541 - val_acc: 0.8407\n",
            "Epoch 5/15\n",
            "90/90 [==============================] - 52s 584ms/step - loss: 0.3559 - acc: 0.8439 - val_loss: 0.3453 - val_acc: 0.8427\n",
            "Epoch 6/15\n",
            "90/90 [==============================] - 53s 589ms/step - loss: 0.3393 - acc: 0.8526 - val_loss: 0.3287 - val_acc: 0.8573\n",
            "Epoch 7/15\n",
            "90/90 [==============================] - 53s 586ms/step - loss: 0.2948 - acc: 0.8766 - val_loss: 0.3061 - val_acc: 0.8600\n",
            "Epoch 8/15\n",
            "90/90 [==============================] - 54s 599ms/step - loss: 0.2742 - acc: 0.8844 - val_loss: 0.2684 - val_acc: 0.8800\n",
            "Epoch 9/15\n",
            "90/90 [==============================] - 51s 567ms/step - loss: 0.2500 - acc: 0.8966 - val_loss: 0.2856 - val_acc: 0.8847\n",
            "Epoch 10/15\n",
            "90/90 [==============================] - 51s 572ms/step - loss: 0.2343 - acc: 0.9036 - val_loss: 0.2600 - val_acc: 0.8833\n",
            "Epoch 11/15\n",
            "90/90 [==============================] - 51s 568ms/step - loss: 0.2221 - acc: 0.9093 - val_loss: 0.2639 - val_acc: 0.8800\n",
            "Epoch 12/15\n",
            "90/90 [==============================] - 62s 684ms/step - loss: 0.1995 - acc: 0.9188 - val_loss: 0.2591 - val_acc: 0.8940\n",
            "Epoch 13/15\n",
            "90/90 [==============================] - 53s 586ms/step - loss: 0.1854 - acc: 0.9248 - val_loss: 0.2527 - val_acc: 0.8947\n",
            "Epoch 14/15\n",
            "90/90 [==============================] - 53s 595ms/step - loss: 0.1861 - acc: 0.9243 - val_loss: 0.2499 - val_acc: 0.8933\n",
            "Epoch 15/15\n",
            "90/90 [==============================] - 51s 566ms/step - loss: 0.1623 - acc: 0.9355 - val_loss: 0.2465 - val_acc: 0.8847\n"
          ]
        }
      ]
    },
    {
      "cell_type": "code",
      "metadata": {
        "id": "MWZrJN4-65RC",
        "colab": {
          "base_uri": "https://localhost:8080/",
          "height": 887
        },
        "outputId": "b95ace04-8a8a-45cb-c45b-6a08d02d2d53"
      },
      "source": [
        "%matplotlib inline\n",
        "\n",
        "import matplotlib.pyplot as plt\n",
        "\n",
        "\n",
        "acc = history.history['acc']\n",
        "val_acc = history.history['val_acc']\n",
        "loss = history.history['loss']\n",
        "val_loss = history.history['val_loss']\n",
        "epochs = range(len(acc))  # number of epochs\n",
        "\n",
        "# accuracy\n",
        "plt.plot(epochs, acc, 'r', label=\"Training Accuracy\")\n",
        "plt.plot(epochs, val_acc, 'b', label=\"Validation Accuracy\")\n",
        "plt.title('Training and validation accuracy')\n",
        "plt.ylabel('Accuracy')\n",
        "plt.legend()\n",
        "plt.ylim(0, 1.1)  # Set y-axis limits slightly higher than 1.0 for better view of graph\n",
        "plt.show()\n",
        "\n",
        "# loss\n",
        "plt.plot(epochs, loss, 'r', label=\"Training Loss\")\n",
        "plt.plot(epochs, val_loss, 'b', label=\"Validation Loss\")\n",
        "plt.title('Training and validation loss')\n",
        "plt.ylabel('Loss')\n",
        "plt.legend()\n",
        "plt.show()\n"
      ],
      "execution_count": 16,
      "outputs": [
        {
          "output_type": "display_data",
          "data": {
            "text/plain": [
              "<Figure size 640x480 with 1 Axes>"
            ],
            "image/png": "[encoded data removed]"
          },
          "metadata": {}
        },
        {
          "output_type": "display_data",
          "data": {
            "text/plain": [
              "<Figure size 640x480 with 1 Axes>"
            ],
            "image/png": "[encoded data removed]"
          },
          "metadata": {}
        }
      ]
    },
    {
      "cell_type": "code",
      "source": [
        "from google.colab import drive\n",
        "drive.mount('/content/drive')"
      ],
      "metadata": {
        "colab": {
          "base_uri": "https://localhost:8080/"
        },
        "id": "XkORzxm0_ur6",
        "outputId": "850cbfa9-b715-4502-f729-5f8c8bf1fb1d"
      },
      "execution_count": 21,
      "outputs": [
        {
          "output_type": "stream",
          "name": "stdout",
          "text": [
            "Mounted at /content/drive\n"
          ]
        }
      ]
    },
    {
      "cell_type": "code",
      "source": [
        "import numpy as np\n",
        "from google.colab import files\n",
        "from keras.preprocessing import image\n",
        "\n",
        "\n",
        "# 5 random images from the dogs directory\n",
        "dog_images = random.sample(os.listdir(TESTING_DOGS_DIR), 5)\n",
        "for fn in dog_images:\n",
        "    path = os.path.join(TESTING_DOGS_DIR, fn)\n",
        "    x = load_image(path)\n",
        "    classes = model.predict(x, batch_size=10)\n",
        "    print(\"Dog image:\", fn)\n",
        "    if classes[0] > 0.5:\n",
        "        print(fn + \" is a dog\")\n",
        "    else:\n",
        "        print(fn + \" is a cat\")\n",
        "\n",
        "# 5 random images from the cats directory\n",
        "cat_images = random.sample(os.listdir(TESTING_CATS_DIR), 5)\n",
        "for fn in cat_images:\n",
        "    path = os.path.join(TESTING_CATS_DIR, fn)\n",
        "    x = load_image(path)\n",
        "    classes = model.predict(x, batch_size=10)\n",
        "    print(\"Cat:\", fn)\n",
        "    if classes[0] > 0.5:\n",
        "        print(fn + \" is a dog\")\n",
        "    else:\n",
        "        print(fn + \" is a cat\")\n"
      ],
      "metadata": {
        "colab": {
          "base_uri": "https://localhost:8080/"
        },
        "id": "qWnvLrJc-Pej",
        "outputId": "9dd658e7-8e24-4eaf-fc5c-cf546c9dc260"
      },
      "execution_count": 24,
      "outputs": [
        {
          "output_type": "stream",
          "name": "stdout",
          "text": [
            "1/1 [==============================] - 0s 19ms/step\n",
            "Dog image: 10849.jpg\n",
            "10849.jpg is a dog\n",
            "1/1 [==============================] - 0s 20ms/step\n",
            "Dog image: 1368.jpg\n",
            "1368.jpg is a dog\n",
            "1/1 [==============================] - 0s 22ms/step\n",
            "Dog image: 1239.jpg\n",
            "1239.jpg is a dog\n",
            "1/1 [==============================] - 0s 23ms/step\n",
            "Dog image: 11353.jpg\n",
            "11353.jpg is a dog\n",
            "1/1 [==============================] - 0s 21ms/step\n",
            "Dog image: 246.jpg\n",
            "246.jpg is a dog\n",
            "1/1 [==============================] - 0s 21ms/step\n",
            "Cat: 8757.jpg\n",
            "8757.jpg is a cat\n",
            "1/1 [==============================] - 0s 22ms/step\n",
            "Cat: 3706.jpg\n",
            "3706.jpg is a cat\n",
            "1/1 [==============================] - 0s 24ms/step\n",
            "Cat: 6457.jpg\n",
            "6457.jpg is a dog\n",
            "1/1 [==============================] - 0s 19ms/step\n",
            "Cat: 3874.jpg\n",
            "3874.jpg is a dog\n",
            "1/1 [==============================] - 0s 18ms/step\n",
            "Cat: 974.jpg\n",
            "974.jpg is a cat\n"
          ]
        }
      ]
    }
  ]
}